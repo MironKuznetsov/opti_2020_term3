{
 "cells": [
  {
   "cell_type": "markdown",
   "metadata": {},
   "source": [
    "# Task 1"
   ]
  },
  {
   "cell_type": "markdown",
   "metadata": {},
   "source": [
    "$S = 2\\pi r h + 2\\pi r^2$\n",
    "\n",
    "\n",
    "$V = \\pi r^2h$\n",
    "\n",
    "\n",
    "$h = \\frac{V}{\\pi r^2}$\n",
    "\n",
    "\n",
    "$S = 2\\pi r h + 2\\pi r^2 = \\frac{2V}{r}+2\\pi r^2$\n",
    "\n",
    "\n",
    "$\\frac{\\partial S}{\\partial r} = -\\frac{2V}{r^2}+4\\pi r = 0$\n",
    "\n",
    "\n",
    "$2V = 4\\pi r^3$\n",
    "\n",
    "\n",
    "$r = \\sqrt[3]{\\frac{V}{2\\pi}}$\n",
    "\n",
    "\n",
    "$h = 2^{\\frac{2}{3}}\\frac{V^{\\frac{1}{3}}}{\\pi^{\\frac{1}{3}}}$"
   ]
  },
  {
   "cell_type": "markdown",
   "metadata": {},
   "source": [
    "# Task 2"
   ]
  },
  {
   "cell_type": "markdown",
   "metadata": {},
   "source": [
    "$f(x_1,x_2) = \\frac{3}{2}(x_1^2+x_2^2) + (1+a)x_1x_2-(x_1+x_2)+b$\n",
    "\n",
    "\n",
    "$\\frac{\\partial f}{\\partial x_1} = 3x_1 + (1+a)x_2 - 1$\n",
    "\n",
    "\n",
    "$\\frac{\\partial f}{\\partial x_2} = 3x_2 + (1+a)x_1 - 1$\n",
    "\n",
    "\n",
    "$\\frac{\\partial^2 f}{\\partial x_1^2} = 3$\n",
    "\n",
    "\n",
    "$\\frac{\\partial^2 f}{\\partial x_2^2} = 3$\n",
    "\n",
    "\n",
    "$\\frac{\\partial^2 f}{\\partial x_1x_2} = 1+a$\n",
    "\n",
    "\n",
    "To be the minimum: $\\nabla f = 0$ & $\\Delta_1 > 0$ & $\\Delta_2 > 0$\n",
    "\n",
    "\n",
    "$\\Delta_1 = 3 > 0$\n",
    "\n",
    "\n",
    "$\\nabla f = 3x_1 + (1+a)x_2 - 1 = 3x_2 + (1+a)x_1 - 1 = 0$\n",
    "\n",
    "\n",
    "$\\Delta_2 = 9 - (1+a)^2 = 8-2a-a^2 > 0$\n",
    "\n",
    "\n",
    "$a_1 = -4, a_2 = 2$\n",
    "\n",
    "\n",
    "$\\Delta_2 = -(a+4)(a-2) > 0 \\Rightarrow a \\in (-4,2), b \\in \\mathcal{R}$\n",
    "\n",
    "Solution is unique with $a \\in (-4,2), b \\in \\mathcal{R}$ because $\\frac{\\partial f}{\\partial x_1}=\\frac{\\partial f}{\\partial x_2}$"
   ]
  },
  {
   "cell_type": "markdown",
   "metadata": {},
   "source": [
    "# Task 3"
   ]
  },
  {
   "cell_type": "code",
   "execution_count": 1,
   "metadata": {},
   "outputs": [],
   "source": [
    "import numpy as np\n",
    "import matplotlib.pyplot as plt\n",
    "import pandas as pd"
   ]
  },
  {
   "cell_type": "code",
   "execution_count": 2,
   "metadata": {},
   "outputs": [],
   "source": [
    "def mishas_bird(x,y):\n",
    "    return (np.sin(y)*np.exp((1-np.cos(x))**2)+np.cos(x)*np.exp((1-np.sin(y))**2)+(x-y)**2)"
   ]
  },
  {
   "cell_type": "code",
   "execution_count": null,
   "metadata": {},
   "outputs": [],
   "source": []
  }
 ],
 "metadata": {
  "kernelspec": {
   "display_name": "Python 3",
   "language": "python",
   "name": "python3"
  },
  "language_info": {
   "codemirror_mode": {
    "name": "ipython",
    "version": 3
   },
   "file_extension": ".py",
   "mimetype": "text/x-python",
   "name": "python",
   "nbconvert_exporter": "python",
   "pygments_lexer": "ipython3",
   "version": "3.7.3"
  }
 },
 "nbformat": 4,
 "nbformat_minor": 2
}
